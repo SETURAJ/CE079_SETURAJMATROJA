{
  "cells": [
    {
      "cell_type": "markdown",
      "metadata": {
        "id": "Tyz2RoPdgf_c"
      },
      "source": [
        "Task:1"
      ]
    },
    {
      "cell_type": "markdown",
      "metadata": {
        "id": "0nECZn5rbAte"
      },
      "source": [
        "Exercise: Manually calculate output for the following cases and compare it\n",
        "with system's output."
      ]
    },
    {
      "cell_type": "code",
      "execution_count": 2,
      "metadata": {
        "id": "BwSbkUuBYIc8"
      },
      "outputs": [],
      "source": [
        "from sklearn import preprocessing\n",
        "from sklearn.naive_bayes import GaussianNB, MultinomialNB"
      ]
    },
    {
      "cell_type": "code",
      "execution_count": 3,
      "metadata": {
        "id": "5Y6pQqw1YfaQ"
      },
      "outputs": [],
      "source": [
        "weather=['Sunny','Sunny','Overcast','Rainy','Rainy','Rainy','Overcast','Sunny',\n",
        "         'Sunny','Rainy','Sunny','Overcast','Overcast','Rainy']\n",
        "temp=['Hot','Hot','Hot','Mild','Cool','Cool','Cool','Mild',\n",
        "      'Cool','Mild','Mild','Mild','Hot','Mild']\n",
        "play=['No','No','Yes','Yes','Yes','No','Yes','No','Yes',\n",
        "      'Yes','Yes','Yes','Yes','No']"
      ]
    },
    {
      "cell_type": "code",
      "execution_count": 4,
      "metadata": {
        "colab": {
          "base_uri": "https://localhost:8080/"
        },
        "id": "KJ-imxepZPXN",
        "outputId": "62ee855f-6983-47f3-dfe8-3bbe84a02afc"
      },
      "outputs": [
        {
          "output_type": "stream",
          "name": "stdout",
          "text": [
            "[2 2 0 1 1 1 0 2 2 1 2 0 0 1]\n"
          ]
        }
      ],
      "source": [
        "le=preprocessing.LabelEncoder()\n",
        "\n",
        "weather_encoded=le.fit_transform(weather)\n",
        "print(weather_encoded)"
      ]
    },
    {
      "cell_type": "code",
      "execution_count": 5,
      "metadata": {
        "colab": {
          "base_uri": "https://localhost:8080/"
        },
        "id": "Snhbrv32ZaW7",
        "outputId": "44a80ddb-348c-4817-9289-33d9727e0d06"
      },
      "outputs": [
        {
          "output_type": "stream",
          "name": "stdout",
          "text": [
            "[1 1 1 2 0 0 0 2 0 2 2 2 1 2]\n",
            "[0 0 1 1 1 0 1 0 1 1 1 1 1 0]\n"
          ]
        }
      ],
      "source": [
        "temp_encoded=le.fit_transform(temp)\n",
        "label=le.fit_transform(play)\n",
        "print(temp_encoded)\n",
        "print(label)\n"
      ]
    },
    {
      "cell_type": "code",
      "execution_count": 6,
      "metadata": {
        "colab": {
          "base_uri": "https://localhost:8080/"
        },
        "id": "YQQtcVnXZoCE",
        "outputId": "569f0d6b-1ac4-4e0f-d3d7-a6082d229077"
      },
      "outputs": [
        {
          "output_type": "stream",
          "name": "stdout",
          "text": [
            "((2, 1), (2, 1), (0, 1), (1, 2), (1, 0), (1, 0), (0, 0), (2, 2), (2, 0), (1, 2), (2, 2), (0, 2), (0, 1), (1, 2))\n"
          ]
        }
      ],
      "source": [
        "features=tuple(zip(weather_encoded,temp_encoded))\n",
        "print(features)"
      ]
    },
    {
      "cell_type": "code",
      "execution_count": 7,
      "metadata": {
        "colab": {
          "base_uri": "https://localhost:8080/"
        },
        "id": "S91c0YPTZwUW",
        "outputId": "ccca7433-71d3-4d18-a2a6-35d8466c830c"
      },
      "outputs": [
        {
          "output_type": "execute_result",
          "data": {
            "text/plain": [
              "MultinomialNB()"
            ]
          },
          "metadata": {},
          "execution_count": 7
        }
      ],
      "source": [
        "model=MultinomialNB()\n",
        "model.fit(features,label)"
      ]
    },
    {
      "cell_type": "markdown",
      "metadata": {
        "id": "1py6c5OxamMk"
      },
      "source": [
        "1)Will you play if the temperature is 'Hot' and the weather is 'overcast'?"
      ]
    },
    {
      "cell_type": "code",
      "execution_count": 8,
      "metadata": {
        "colab": {
          "base_uri": "https://localhost:8080/"
        },
        "id": "64HgphyKZ27V",
        "outputId": "15506a0a-2f60-4a61-bca1-388f0624ab4c"
      },
      "outputs": [
        {
          "output_type": "stream",
          "name": "stdout",
          "text": [
            "[1]\n"
          ]
        }
      ],
      "source": [
        "predicted=model.predict([[0,1]])\n",
        "print(predicted)"
      ]
    },
    {
      "cell_type": "markdown",
      "metadata": {
        "id": "c5-lS2Mma68y"
      },
      "source": [
        "2)Will you play if the temperature is 'Mild' and the weather is 'Sunny'?"
      ]
    },
    {
      "cell_type": "code",
      "execution_count": 9,
      "metadata": {
        "colab": {
          "base_uri": "https://localhost:8080/"
        },
        "id": "OvoolDNYadkl",
        "outputId": "5f2f33b5-fcb8-4487-fd6f-cfce87891a9a"
      },
      "outputs": [
        {
          "output_type": "stream",
          "name": "stdout",
          "text": [
            "[1]\n"
          ]
        }
      ],
      "source": [
        "predicted=model.predict([[2,2]])\n",
        "print(predicted)"
      ]
    },
    {
      "cell_type": "markdown",
      "metadata": {
        "id": "Ebmzoqn4gbhB"
      },
      "source": [
        "Task2:"
      ]
    },
    {
      "cell_type": "code",
      "execution_count": 10,
      "metadata": {
        "id": "R-kTm73-goLA"
      },
      "outputs": [],
      "source": [
        "import numpy as np\n",
        "from sklearn import datasets\n",
        "from sklearn.naive_bayes import GaussianNB\n",
        "\n",
        "iris=datasets.load_iris()"
      ]
    },
    {
      "cell_type": "code",
      "execution_count": 11,
      "metadata": {
        "colab": {
          "base_uri": "https://localhost:8080/"
        },
        "id": "PYJcnkH2g3vP",
        "outputId": "0de17eda-2532-4883-a0b0-16c341cdb240"
      },
      "outputs": [
        {
          "output_type": "stream",
          "name": "stdout",
          "text": [
            "Features:  ['sepal length (cm)', 'sepal width (cm)', 'petal length (cm)', 'petal width (cm)']\n",
            "Labels:  ['setosa' 'versicolor' 'virginica']\n",
            "\n",
            "Data Shape:  (150, 4)\n",
            "\n",
            "Target Shape:  (150,)\n"
          ]
        }
      ],
      "source": [
        "print(\"Features: \",iris.feature_names)\n",
        "print(\"Labels: \",iris.target_names)\n",
        "print(\"\\nData Shape: \",iris.data.shape)\n",
        "print(\"\\nTarget Shape: \",iris.target.shape)"
      ]
    },
    {
      "cell_type": "code",
      "execution_count": 12,
      "metadata": {
        "colab": {
          "base_uri": "https://localhost:8080/"
        },
        "id": "0ivVOWfmhaiw",
        "outputId": "7550b775-f337-4ab6-c283-350312fb9656"
      },
      "outputs": [
        {
          "output_type": "stream",
          "name": "stdout",
          "text": [
            "\n",
            "Data type:  <class 'numpy.ndarray'>\n",
            "(100, 4)\n",
            "(100,)\n"
          ]
        }
      ],
      "source": [
        "print(\"\\nData type: \",type(iris.data))\n",
        "newdata=iris.data[50:,:]\n",
        "newtarget=iris.target[50:]\n",
        "print(newdata.shape)\n",
        "print(newtarget.shape)"
      ]
    },
    {
      "cell_type": "code",
      "execution_count": 13,
      "metadata": {
        "id": "nC51NX83h2He"
      },
      "outputs": [],
      "source": [
        "from sklearn.model_selection import train_test_split\n",
        "data_train,data_test,target_train,target_test=train_test_split(newdata,\n",
        "        newtarget,test_size=0.30,random_state=5)"
      ]
    },
    {
      "cell_type": "code",
      "execution_count": 14,
      "metadata": {
        "id": "QQO7h2NCiHJ_"
      },
      "outputs": [],
      "source": [
        "import numpy as np\n",
        "gnb=GaussianNB()\n",
        "gnb.fit(data_train,target_train)\n",
        "target_pred=gnb.predict(data_test)"
      ]
    },
    {
      "cell_type": "code",
      "execution_count": 15,
      "metadata": {
        "colab": {
          "base_uri": "https://localhost:8080/"
        },
        "id": "9QFKBnT2iVyj",
        "outputId": "fa39b4cc-dc5f-416f-90b8-eb0e96999b5d"
      },
      "outputs": [
        {
          "output_type": "stream",
          "name": "stdout",
          "text": [
            "Accuracy:  0.9\n"
          ]
        }
      ],
      "source": [
        "from sklearn import metrics\n",
        "print(\"Accuracy: \",metrics.accuracy_score(target_test,target_pred))"
      ]
    },
    {
      "cell_type": "code",
      "execution_count": 16,
      "metadata": {
        "colab": {
          "base_uri": "https://localhost:8080/"
        },
        "id": "uwfq17HzijZA",
        "outputId": "7b62124a-2bcf-4980-ebd0-a655d7fe56fd"
      },
      "outputs": [
        {
          "output_type": "execute_result",
          "data": {
            "text/plain": [
              "array([[16,  1],\n",
              "       [ 2, 11]])"
            ]
          },
          "metadata": {},
          "execution_count": 16
        }
      ],
      "source": [
        "from sklearn.metrics import confusion_matrix\n",
        "confusion_matrix(target_test,target_pred)"
      ]
    },
    {
      "cell_type": "code",
      "execution_count": 17,
      "metadata": {
        "colab": {
          "base_uri": "https://localhost:8080/"
        },
        "id": "92BiKIZLixO9",
        "outputId": "9562bcab-896e-47f1-9b92-6337d1c5e01f"
      },
      "outputs": [
        {
          "output_type": "stream",
          "name": "stdout",
          "text": [
            "precision: {} 0.8888888888888888\n",
            "recall: {} 0.9411764705882353\n"
          ]
        }
      ],
      "source": [
        "from sklearn.metrics import precision_score\n",
        "from sklearn.metrics import recall_score\n",
        "\n",
        "precsion=precision_score(target_test,target_pred)\n",
        "recall=recall_score(target_test,target_pred)\n",
        "\n",
        "print('precision: {}',format(precsion))\n",
        "print('recall: {}',format(recall))"
      ]
    },
    {
      "cell_type": "markdown",
      "metadata": {
        "id": "_wFSxLUIoPkG"
      },
      "source": [
        "TASK3:\n"
      ]
    },
    {
      "cell_type": "code",
      "execution_count": 18,
      "metadata": {
        "colab": {
          "base_uri": "https://localhost:8080/"
        },
        "id": "9ONbfmB5oQ4U",
        "outputId": "8e23028e-50e9-4aaa-9c07-2ed68453c2a4"
      },
      "outputs": [
        {
          "output_type": "stream",
          "name": "stdout",
          "text": [
            "Mounted at /content/drive\n"
          ]
        }
      ],
      "source": [
        "from google.colab import drive\n",
        "drive.mount('/content/drive')"
      ]
    },
    {
      "cell_type": "code",
      "execution_count": 19,
      "metadata": {
        "colab": {
          "base_uri": "https://localhost:8080/"
        },
        "id": "g1C_reQ0o1hP",
        "outputId": "4cdb9f5d-b580-4c69-f04e-57b38e5a2c45"
      },
      "outputs": [
        {
          "output_type": "stream",
          "name": "stdout",
          "text": [
            "   Outlook Temp Wind Humidity Class\n",
            "0        R    H    F   Normal     N\n",
            "1        R    H    T     High     N\n",
            "2        O    H    F   Normal     Y\n",
            "3        S    M    F   Normal     N\n",
            "4        S    M    F   Normal     Y\n",
            "5        S    M    T      Low     Y\n",
            "6        O    C    T   Normal     Y\n",
            "7        R    C    F   Normal     Y\n",
            "8        R    C    F      Low     Y\n",
            "9        S    M    F     High     Y\n",
            "10       R    M    T     High     Y\n",
            "11       O    M    T      Low     Y\n",
            "12       O    H    F   Normal     Y\n",
            "13       S    M    T   Normal     N\n",
            "       Outlook Temp Wind Humidity Class\n",
            "count       14   14   14       14    14\n",
            "unique       3    3    2        3     2\n",
            "top          S    M    F   Normal     Y\n",
            "freq         5    7    8        8    10\n"
          ]
        }
      ],
      "source": [
        "import numpy as np \n",
        "import pandas as pd\n",
        "from sklearn.preprocessing import OneHotEncoder\n",
        "\n",
        "datasets=pd.read_csv('drive/MyDrive/Dataset2.csv')\n",
        "print(datasets)\n",
        "print(datasets.describe())"
      ]
    },
    {
      "cell_type": "code",
      "execution_count": 20,
      "metadata": {
        "colab": {
          "base_uri": "https://localhost:8080/"
        },
        "id": "V4kYuquhqHg4",
        "outputId": "5cbe1f62-7aab-47f5-9fb7-b3669d0a5dac"
      },
      "outputs": [
        {
          "output_type": "stream",
          "name": "stdout",
          "text": [
            "\n",
            "Input: \n",
            " [['R' 'H' 'F' 'Normal']\n",
            " ['R' 'H' 'T' 'High']\n",
            " ['O' 'H' 'F' 'Normal']\n",
            " ['S' 'M' 'F' 'Normal']\n",
            " ['S' 'M' 'F' 'Normal']\n",
            " ['S' 'M' 'T' 'Low']\n",
            " ['O' 'C' 'T' 'Normal']\n",
            " ['R' 'C' 'F' 'Normal']\n",
            " ['R' 'C' 'F' 'Low']\n",
            " ['S' 'M' 'F' 'High']\n",
            " ['R' 'M' 'T' 'High']\n",
            " ['O' 'M' 'T' 'Low']\n",
            " ['O' 'H' 'F' 'Normal']\n",
            " ['S' 'M' 'T' 'Normal']]\n",
            "\n",
            "Output: \n",
            " ['N' 'N' 'Y' 'N' 'Y' 'Y' 'Y' 'Y' 'Y' 'Y' 'Y' 'Y' 'Y' 'N']\n"
          ]
        }
      ],
      "source": [
        "x=datasets.iloc[:,:-1].values\n",
        "y=datasets.iloc[:,-1].values\n",
        "print(\"\\nInput: \\n\",x)\n",
        "print(\"\\nOutput: \\n\",y)"
      ]
    },
    {
      "cell_type": "code",
      "execution_count": 21,
      "metadata": {
        "colab": {
          "base_uri": "https://localhost:8080/"
        },
        "id": "U9amAIO5r06b",
        "outputId": "2b4d3d0f-7446-4136-ed36-93cd71f75e83"
      },
      "outputs": [
        {
          "output_type": "stream",
          "name": "stdout",
          "text": [
            "[[0. 1. 0.]\n",
            " [0. 1. 0.]\n",
            " [1. 0. 0.]\n",
            " [0. 0. 1.]\n",
            " [0. 0. 1.]\n",
            " [0. 0. 1.]\n",
            " [1. 0. 0.]\n",
            " [0. 1. 0.]\n",
            " [0. 1. 0.]\n",
            " [0. 0. 1.]\n",
            " [0. 1. 0.]\n",
            " [1. 0. 0.]\n",
            " [1. 0. 0.]\n",
            " [0. 0. 1.]]\n"
          ]
        }
      ],
      "source": [
        "onehotencoder=OneHotEncoder()\n",
        "x=onehotencoder.fit_transform(datasets.Outlook.values.reshape(-1,1)).toarray()\n",
        "print(x)"
      ]
    },
    {
      "cell_type": "code",
      "execution_count": 22,
      "metadata": {
        "colab": {
          "base_uri": "https://localhost:8080/"
        },
        "id": "UGb5gcRjsgK9",
        "outputId": "f041bd43-3833-4c06-c365-6b1b58c163eb"
      },
      "outputs": [
        {
          "output_type": "stream",
          "name": "stdout",
          "text": [
            "   Temp Wind Humidity Class    R    O    S\n",
            "0     H    F   Normal     N  0.0  1.0  0.0\n",
            "1     H    T     High     N  0.0  1.0  0.0\n",
            "2     H    F   Normal     Y  1.0  0.0  0.0\n",
            "3     M    F   Normal     N  0.0  0.0  1.0\n",
            "4     M    F   Normal     Y  0.0  0.0  1.0\n",
            "5     M    T      Low     Y  0.0  0.0  1.0\n",
            "6     C    T   Normal     Y  1.0  0.0  0.0\n",
            "7     C    F   Normal     Y  0.0  1.0  0.0\n",
            "8     C    F      Low     Y  0.0  1.0  0.0\n",
            "9     M    F     High     Y  0.0  0.0  1.0\n",
            "10    M    T     High     Y  0.0  1.0  0.0\n",
            "11    M    T      Low     Y  1.0  0.0  0.0\n",
            "12    H    F   Normal     Y  1.0  0.0  0.0\n",
            "13    M    T   Normal     N  0.0  0.0  1.0\n"
          ]
        }
      ],
      "source": [
        "dfOneHot=pd.DataFrame(x,columns=datasets.Outlook.unique().tolist())\n",
        "df=pd.concat([datasets,dfOneHot],axis=1)\n",
        "df=df.drop(['Outlook'],axis=1)\n",
        "print(df)"
      ]
    },
    {
      "cell_type": "code",
      "source": [
        "x_train,x_test,y_train,y_test=train_test_split(x,y,test_size=0.25,random_state=10)\n"
      ],
      "metadata": {
        "id": "lIe_L8k144ZI"
      },
      "execution_count": 23,
      "outputs": []
    },
    {
      "cell_type": "markdown",
      "source": [
        "TASK 4:\n"
      ],
      "metadata": {
        "id": "FNL9HHbxagqZ"
      }
    },
    {
      "cell_type": "code",
      "source": [
        "from sklearn import datasets\n",
        "\n",
        "wine = datasets.load_wine()\n",
        "print(wine.feature_names)\n",
        "print(wine.target_names)\n",
        "\n",
        "newdata = wine.data[50:,:]\n",
        "newtarget = wine.target[50:]"
      ],
      "metadata": {
        "id": "sNz6l5weaiRU",
        "colab": {
          "base_uri": "https://localhost:8080/"
        },
        "outputId": "3a9cc9f8-36aa-4f2d-b67c-9daabfeccd60"
      },
      "execution_count": 24,
      "outputs": [
        {
          "output_type": "stream",
          "name": "stdout",
          "text": [
            "['alcohol', 'malic_acid', 'ash', 'alcalinity_of_ash', 'magnesium', 'total_phenols', 'flavanoids', 'nonflavanoid_phenols', 'proanthocyanins', 'color_intensity', 'hue', 'od280/od315_of_diluted_wines', 'proline']\n",
            "['class_0' 'class_1' 'class_2']\n"
          ]
        }
      ]
    },
    {
      "cell_type": "code",
      "source": [
        "from sklearn.model_selection import train_test_split\n",
        "\n",
        "data_train, data_test, target_train, target_test = train_test_split(newdata, newtarget, test_size = 0.80, random_state = 87)\n",
        "\n"
      ],
      "metadata": {
        "id": "RR2IDbAubUur"
      },
      "execution_count": 25,
      "outputs": []
    },
    {
      "cell_type": "code",
      "source": [
        "import numpy as np\n",
        "from sklearn.naive_bayes import GaussianNB\n",
        "\n",
        "gnb = GaussianNB()\n",
        "gnb.fit(data_train, target_train)\n",
        "target_pred = gnb.predict(data_test)\n",
        "print(target_pred)"
      ],
      "metadata": {
        "colab": {
          "base_uri": "https://localhost:8080/"
        },
        "id": "xypZRMyqc-ua",
        "outputId": "24f7c91f-937b-4dca-98d9-fd86cd6320ac"
      },
      "execution_count": 26,
      "outputs": [
        {
          "output_type": "stream",
          "name": "stdout",
          "text": [
            "[1 1 2 1 1 1 2 1 1 1 1 2 1 1 2 1 1 1 2 1 1 1 1 1 1 1 1 1 1 2 2 1 1 2 1 1 1\n",
            " 2 2 1 2 2 2 1 2 1 2 1 1 2 2 1 2 2 2 2 1 1 1 1 2 2 1 1 2 1 1 1 1 2 2 1 1 2\n",
            " 1 1 1 1 2 1 2 2 1 1 2 1 1 1 1 2 1 1 2 1 1 2 1 2 2 1 1 2 2]\n"
          ]
        }
      ]
    },
    {
      "cell_type": "code",
      "source": [
        "from sklearn import metrics\n",
        "\n",
        "print(\"Accuracy:\", metrics.accuracy_score(target_test, target_pred))"
      ],
      "metadata": {
        "colab": {
          "base_uri": "https://localhost:8080/"
        },
        "id": "qZ11w2f7dAlt",
        "outputId": "133f1954-fdc9-44f0-b08e-ee688a057a47"
      },
      "execution_count": 27,
      "outputs": [
        {
          "output_type": "stream",
          "name": "stdout",
          "text": [
            "Accuracy: 0.9223300970873787\n"
          ]
        }
      ]
    },
    {
      "cell_type": "code",
      "source": [
        "from sklearn.metrics import confusion_matrix\n",
        "confusion_matrix(target_test, target_pred)"
      ],
      "metadata": {
        "colab": {
          "base_uri": "https://localhost:8080/"
        },
        "id": "0CGabDCDdCV8",
        "outputId": "9ea87e2a-494a-42ca-9b0c-3681260ca6a8"
      },
      "execution_count": 28,
      "outputs": [
        {
          "output_type": "execute_result",
          "data": {
            "text/plain": [
              "array([[ 0,  8,  0],\n",
              "       [ 0, 57,  0],\n",
              "       [ 0,  0, 38]])"
            ]
          },
          "metadata": {},
          "execution_count": 28
        }
      ]
    },
    {
      "cell_type": "code",
      "source": [
        "from sklearn.metrics import precision_score\n",
        "from sklearn.metrics import recall_score\n",
        "\n",
        "precision = precision_score(target_test, target_pred, average=None)\n",
        "recall = recall_score(target_test, target_pred, average=None)\n",
        "\n",
        "print(\"precision: \", precision)\n",
        "print(\"recall: \", recall)"
      ],
      "metadata": {
        "colab": {
          "base_uri": "https://localhost:8080/"
        },
        "id": "CLpP34_KdERc",
        "outputId": "74b29d85-de6e-4fef-bb58-606c5b57ff8b"
      },
      "execution_count": 29,
      "outputs": [
        {
          "output_type": "stream",
          "name": "stdout",
          "text": [
            "precision:  [0.         0.87692308 1.        ]\n",
            "recall:  [0. 1. 1.]\n"
          ]
        },
        {
          "output_type": "stream",
          "name": "stderr",
          "text": [
            "/usr/local/lib/python3.7/dist-packages/sklearn/metrics/_classification.py:1308: UndefinedMetricWarning: Precision is ill-defined and being set to 0.0 in labels with no predicted samples. Use `zero_division` parameter to control this behavior.\n",
            "  _warn_prf(average, modifier, msg_start, len(result))\n"
          ]
        }
      ]
    }
  ],
  "metadata": {
    "colab": {
      "collapsed_sections": [],
      "name": "Untitled1.ipynb",
      "provenance": []
    },
    "kernelspec": {
      "display_name": "Python 3",
      "name": "python3"
    },
    "language_info": {
      "name": "python"
    }
  },
  "nbformat": 4,
  "nbformat_minor": 0
}
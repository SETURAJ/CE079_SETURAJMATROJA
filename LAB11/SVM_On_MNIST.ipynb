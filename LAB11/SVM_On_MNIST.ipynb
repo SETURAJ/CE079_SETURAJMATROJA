{
  "cells": [
    {
      "cell_type": "markdown",
      "metadata": {
        "id": "Cv1WCsvGK8hQ"
      },
      "source": [
        "##Try SVM classifier on MNIST dataset, compare the performance of linear, polynomial and RBF kernels."
      ]
    },
    {
      "cell_type": "code",
      "execution_count": 1,
      "metadata": {
        "id": "9fHYPZDvK2-o"
      },
      "outputs": [],
      "source": [
        "import sys, os\n",
        "import matplotlib.pyplot as plt\n",
        "from sklearn import svm\n",
        "from sklearn.model_selection import train_test_split\n",
        "import numpy as np"
      ]
    },
    {
      "cell_type": "code",
      "execution_count": 2,
      "metadata": {
        "id": "IcRQAqYqLOmF"
      },
      "outputs": [],
      "source": [
        "from sklearn.datasets import load_digits\n",
        "\n",
        "digits = load_digits()\n",
        "\n",
        "X_train, X_test, y_train, y_test = train_test_split(digits.data, digits.target, test_size = 0.3, train_size = 0.2 ,random_state = 79)    #random_state=roll_number"
      ]
    },
    {
      "cell_type": "markdown",
      "metadata": {
        "id": "Koyai-CULWYj"
      },
      "source": [
        "Linear Model"
      ]
    },
    {
      "cell_type": "code",
      "execution_count": 3,
      "metadata": {
        "id": "mYN1YpcMLYcI"
      },
      "outputs": [],
      "source": [
        "linear_clf = svm.SVC(kernel='linear')\n",
        "linear_clf.fit(X_train, y_train)\n",
        "\n",
        "# predict\n",
        "y_pred = linear_clf.predict(X_test)"
      ]
    },
    {
      "cell_type": "code",
      "execution_count": 7,
      "metadata": {
        "colab": {
          "base_uri": "https://localhost:8080/"
        },
        "id": "lgXGNgpML3EP",
        "outputId": "87910b28-7f93-4d6c-9d4f-b484a3d41793"
      },
      "outputs": [
        {
          "name": "stdout",
          "output_type": "stream",
          "text": [
            "accuracy: 96.11111111111111 %\n"
          ]
        }
      ],
      "source": [
        "from sklearn import metrics\n",
        "\n",
        "# accuracy\n",
        "print(\"accuracy:\", metrics.accuracy_score(y_true=y_test, y_pred=y_pred)*100,\"%\")"
      ]
    },
    {
      "cell_type": "markdown",
      "metadata": {
        "id": "6dK6jVVIMIfR"
      },
      "source": [
        "Polynomial Model"
      ]
    },
    {
      "cell_type": "code",
      "execution_count": 8,
      "metadata": {
        "id": "yNk6B0UHNTAb"
      },
      "outputs": [],
      "source": [
        "poly_clf = svm.SVC(kernel='poly')\n",
        "poly_clf.fit(X_train, y_train)\n",
        "\n",
        "# predict\n",
        "y_pred = poly_clf.predict(X_test)"
      ]
    },
    {
      "cell_type": "code",
      "execution_count": 11,
      "metadata": {
        "colab": {
          "base_uri": "https://localhost:8080/"
        },
        "id": "p_wYAbXwNX9f",
        "outputId": "f9615736-9999-4a54-b8c4-92d3dd453225"
      },
      "outputs": [
        {
          "name": "stdout",
          "output_type": "stream",
          "text": [
            "accuracy: 96.29629629629629 %\n"
          ]
        }
      ],
      "source": [
        "# accuracy\n",
        "print(\"accuracy:\", metrics.accuracy_score(y_true=y_test, y_pred=y_pred)*100, \"%\")"
      ]
    },
    {
      "cell_type": "markdown",
      "metadata": {
        "id": "Dwv4PKE0NjXo"
      },
      "source": [
        "RBF Model"
      ]
    },
    {
      "cell_type": "code",
      "execution_count": 12,
      "metadata": {
        "id": "aoHmdqiuNkkS"
      },
      "outputs": [],
      "source": [
        "rbf_clf = svm.SVC(kernel='rbf')\n",
        "rbf_clf.fit(X_train, y_train)\n",
        "\n",
        "# predict\n",
        "y_pred = rbf_clf.predict(X_test)"
      ]
    },
    {
      "cell_type": "code",
      "execution_count": 13,
      "metadata": {
        "colab": {
          "base_uri": "https://localhost:8080/"
        },
        "id": "En_q0G_bNsVW",
        "outputId": "9132c90a-4b49-45e9-cf80-18e198df58d1"
      },
      "outputs": [
        {
          "name": "stdout",
          "output_type": "stream",
          "text": [
            "accuracy: 96.11111111111111 %\n"
          ]
        }
      ],
      "source": [
        "# accuracy\n",
        "print(\"accuracy:\", metrics.accuracy_score(y_true=y_test, y_pred=y_pred)*100, \"%\")"
      ]
    }
  ],
  "metadata": {
    "colab": {
      "name": "SVM_On_MNIST.ipynb",
      "provenance": []
    },
    "kernelspec": {
      "display_name": "Python 3",
      "name": "python3"
    },
    "language_info": {
      "name": "python"
    }
  },
  "nbformat": 4,
  "nbformat_minor": 0
}

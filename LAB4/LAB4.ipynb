{
  "nbformat": 4,
  "nbformat_minor": 0,
  "metadata": {
    "colab": {
      "name": "LAB4.ipynb",
      "provenance": [],
      "collapsed_sections": []
    },
    "kernelspec": {
      "name": "python3",
      "display_name": "Python 3"
    },
    "language_info": {
      "name": "python"
    }
  },
  "cells": [
    {
      "cell_type": "markdown",
      "source": [
        "TASK 1: Implement Linear Regression Algorithm on the given dataset"
      ],
      "metadata": {
        "id": "ef0i2cmweX8x"
      }
    },
    {
      "cell_type": "code",
      "execution_count": 39,
      "metadata": {
        "id": "XTaYX8l0b2-1"
      },
      "outputs": [],
      "source": [
        "import numpy as np\n",
        "import torch \n"
      ]
    },
    {
      "cell_type": "code",
      "source": [
        "input=np.array([[73,67,43],[91,88,64],\n",
        "               [87,134,58],[102,43,37],\n",
        "               [69,96,70]],dtype='float32')"
      ],
      "metadata": {
        "id": "1dbZZMeZcIaG"
      },
      "execution_count": 40,
      "outputs": []
    },
    {
      "cell_type": "code",
      "source": [
        "target=np.array([[56],[81],[119],\n",
        "                [22],[103]],dtype='float32')"
      ],
      "metadata": {
        "id": "RfqHz1LQc2Sc"
      },
      "execution_count": 41,
      "outputs": []
    },
    {
      "cell_type": "code",
      "source": [
        "x_data=torch.from_numpy(input)\n",
        "x_data"
      ],
      "metadata": {
        "colab": {
          "base_uri": "https://localhost:8080/"
        },
        "id": "euFtWVo6dFJZ",
        "outputId": "422a91da-f982-4b0f-8841-9433914cb3e8"
      },
      "execution_count": 42,
      "outputs": [
        {
          "output_type": "execute_result",
          "data": {
            "text/plain": [
              "tensor([[ 73.,  67.,  43.],\n",
              "        [ 91.,  88.,  64.],\n",
              "        [ 87., 134.,  58.],\n",
              "        [102.,  43.,  37.],\n",
              "        [ 69.,  96.,  70.]])"
            ]
          },
          "metadata": {},
          "execution_count": 42
        }
      ]
    },
    {
      "cell_type": "code",
      "source": [
        "y_data=torch.from_numpy(target)\n",
        "y_data\n"
      ],
      "metadata": {
        "colab": {
          "base_uri": "https://localhost:8080/"
        },
        "id": "_A6C7925fY_-",
        "outputId": "3f74629b-ef7e-4fed-f891-2312df46dd60"
      },
      "execution_count": 43,
      "outputs": [
        {
          "output_type": "execute_result",
          "data": {
            "text/plain": [
              "tensor([[ 56.],\n",
              "        [ 81.],\n",
              "        [119.],\n",
              "        [ 22.],\n",
              "        [103.]])"
            ]
          },
          "metadata": {},
          "execution_count": 43
        }
      ]
    },
    {
      "cell_type": "code",
      "source": [
        "w=torch.randn(1,3,requires_grad=True)\n",
        "w"
      ],
      "metadata": {
        "colab": {
          "base_uri": "https://localhost:8080/"
        },
        "id": "ssR5ytwZg4Vo",
        "outputId": "dde40542-4b4c-4227-9664-6493edee694a"
      },
      "execution_count": 44,
      "outputs": [
        {
          "output_type": "execute_result",
          "data": {
            "text/plain": [
              "tensor([[ 2.8931, -1.2044, -1.1576]], requires_grad=True)"
            ]
          },
          "metadata": {},
          "execution_count": 44
        }
      ]
    },
    {
      "cell_type": "code",
      "source": [
        "b=torch.randn(5,1,requires_grad=True)"
      ],
      "metadata": {
        "id": "grTfipCEj2vD"
      },
      "execution_count": 45,
      "outputs": []
    },
    {
      "cell_type": "code",
      "source": [
        "model=x_data@w.t() + b\n",
        "model"
      ],
      "metadata": {
        "colab": {
          "base_uri": "https://localhost:8080/"
        },
        "id": "zOLYKSG8kDXZ",
        "outputId": "0c0d56ea-07dd-4887-a197-8778d7530bab"
      },
      "execution_count": 46,
      "outputs": [
        {
          "output_type": "execute_result",
          "data": {
            "text/plain": [
              "tensor([[ 79.2638],\n",
              "        [ 82.0578],\n",
              "        [ 22.9890],\n",
              "        [199.2547],\n",
              "        [  2.0896]], grad_fn=<AddBackward0>)"
            ]
          },
          "metadata": {},
          "execution_count": 46
        }
      ]
    },
    {
      "cell_type": "code",
      "source": [
        "target"
      ],
      "metadata": {
        "colab": {
          "base_uri": "https://localhost:8080/"
        },
        "id": "LcVdlxxHlGh4",
        "outputId": "a535cd17-d0ce-4066-82e2-cf65b7a05a3b"
      },
      "execution_count": 47,
      "outputs": [
        {
          "output_type": "execute_result",
          "data": {
            "text/plain": [
              "array([[ 56.],\n",
              "       [ 81.],\n",
              "       [119.],\n",
              "       [ 22.],\n",
              "       [103.]], dtype=float32)"
            ]
          },
          "metadata": {},
          "execution_count": 47
        }
      ]
    },
    {
      "cell_type": "code",
      "source": [
        "target=torch.from_numpy(target)"
      ],
      "metadata": {
        "id": "kIPs5hEGp5tR"
      },
      "execution_count": 48,
      "outputs": []
    },
    {
      "cell_type": "code",
      "source": [
        "diff=model-target"
      ],
      "metadata": {
        "id": "_TIWg7Q2mlQM"
      },
      "execution_count": 49,
      "outputs": []
    },
    {
      "cell_type": "code",
      "source": [
        "loss=torch.sum(diff*diff)/torch.numel(diff)\n",
        "loss"
      ],
      "metadata": {
        "colab": {
          "base_uri": "https://localhost:8080/"
        },
        "id": "ixPC0eRvnG5u",
        "outputId": "f220e7cf-4aed-453a-bcf9-63adb03af64a"
      },
      "execution_count": 50,
      "outputs": [
        {
          "output_type": "execute_result",
          "data": {
            "text/plain": [
              "tensor(10272.5137, grad_fn=<DivBackward0>)"
            ]
          },
          "metadata": {},
          "execution_count": 50
        }
      ]
    },
    {
      "cell_type": "code",
      "source": [
        "loss.backward(retain_graph=True)"
      ],
      "metadata": {
        "id": "HFphUFKurVw1"
      },
      "execution_count": 51,
      "outputs": []
    },
    {
      "cell_type": "code",
      "source": [
        "print(w)\n",
        "print(w.grad)"
      ],
      "metadata": {
        "colab": {
          "base_uri": "https://localhost:8080/"
        },
        "id": "PocfIqfVsVRL",
        "outputId": "a7a76bad-16a1-4119-99d0-af03f35f80f5"
      },
      "execution_count": 52,
      "outputs": [
        {
          "output_type": "stream",
          "name": "stdout",
          "text": [
            "tensor([[ 2.8931, -1.2044, -1.1576]], requires_grad=True)\n",
            "tensor([[ 1823.4895, -5311.6631, -2002.3596]])\n"
          ]
        }
      ]
    },
    {
      "cell_type": "code",
      "source": [
        "print(b)\n",
        "print(b.grad)"
      ],
      "metadata": {
        "colab": {
          "base_uri": "https://localhost:8080/"
        },
        "id": "UxjrvTpTs-8I",
        "outputId": "451f2ee8-9481-4c83-a565-f109610fddcc"
      },
      "execution_count": 53,
      "outputs": [
        {
          "output_type": "stream",
          "name": "stdout",
          "text": [
            "tensor([[-1.4632],\n",
            "        [-1.1437],\n",
            "        [-0.1854],\n",
            "        [-1.2220],\n",
            "        [-0.8835]], requires_grad=True)\n",
            "tensor([[  9.3055],\n",
            "        [  0.4231],\n",
            "        [-38.4044],\n",
            "        [ 70.9019],\n",
            "        [-40.3642]])\n"
          ]
        }
      ]
    },
    {
      "cell_type": "code",
      "source": [
        ""
      ],
      "metadata": {
        "id": "Y0gA4niDuVFx"
      },
      "execution_count": 53,
      "outputs": []
    },
    {
      "cell_type": "markdown",
      "source": [
        "ADJUST WEIGHTS AND BIASES USING GRADIENT DESCENT"
      ],
      "metadata": {
        "id": "BZDtP0WtegcB"
      }
    },
    {
      "cell_type": "code",
      "source": [
        "model=x_data@w.t() + b\n",
        "print(model)  #Here model is predicions\n"
      ],
      "metadata": {
        "colab": {
          "base_uri": "https://localhost:8080/"
        },
        "id": "AYYrNyqJekAN",
        "outputId": "f56dc7c2-d5aa-4181-f6cd-23e745e78e39"
      },
      "execution_count": 61,
      "outputs": [
        {
          "output_type": "stream",
          "name": "stdout",
          "text": [
            "tensor([[ 85.4409],\n",
            "        [ 90.6506],\n",
            "        [ 36.3749],\n",
            "        [201.5832],\n",
            "        [ 12.5757]], grad_fn=<AddBackward0>)\n"
          ]
        }
      ]
    },
    {
      "cell_type": "code",
      "source": [
        "#finding loss using predictions(model) and target\n",
        "diff=model-target\n",
        "loss=torch.sum(diff*diff)/torch.numel(diff)\n",
        "print(loss)"
      ],
      "metadata": {
        "colab": {
          "base_uri": "https://localhost:8080/"
        },
        "id": "AywEwYJKfKzV",
        "outputId": "63cfadb4-0424-4b8e-a959-461b0ef2d06f"
      },
      "execution_count": 62,
      "outputs": [
        {
          "output_type": "stream",
          "name": "stdout",
          "text": [
            "tensor(9642.6953, grad_fn=<DivBackward0>)\n"
          ]
        }
      ]
    },
    {
      "cell_type": "code",
      "source": [
        "loss.backward(retain_graph=True)"
      ],
      "metadata": {
        "id": "UE76etUXfgz0"
      },
      "execution_count": 63,
      "outputs": []
    },
    {
      "cell_type": "code",
      "source": [
        "print(w.grad)\n",
        "print(b.grad)"
      ],
      "metadata": {
        "colab": {
          "base_uri": "https://localhost:8080/"
        },
        "id": "7D3ze2VyflrL",
        "outputId": "34a03119-ef08-4055-d7b8-0698f54d529e"
      },
      "execution_count": 64,
      "outputs": [
        {
          "output_type": "stream",
          "name": "stdout",
          "text": [
            "tensor([[ 3166.8867, -3683.4492, -1037.5125]])\n",
            "tensor([[ 11.7764],\n",
            "        [  3.8602],\n",
            "        [-33.0500],\n",
            "        [ 71.8333],\n",
            "        [-36.1697]])\n"
          ]
        }
      ]
    },
    {
      "cell_type": "code",
      "source": [
        "with torch.no_grad():\n",
        "    w -= w.grad * 1e-5\n",
        "    b -= b.grad * 1e-5\n",
        "    w.grad.zero_()\n",
        "    b.grad.zero_()\n",
        "    "
      ],
      "metadata": {
        "id": "ApxxTSomfqLx"
      },
      "execution_count": 65,
      "outputs": []
    },
    {
      "cell_type": "code",
      "source": [
        "print(w)\n",
        "print(b)"
      ],
      "metadata": {
        "colab": {
          "base_uri": "https://localhost:8080/"
        },
        "id": "QvkpIfshhUHi",
        "outputId": "5623b030-4ed6-466b-8da0-61e57d089490"
      },
      "execution_count": 66,
      "outputs": [
        {
          "output_type": "stream",
          "name": "stdout",
          "text": [
            "tensor([[ 2.8250, -1.0613, -1.1072]], requires_grad=True)\n",
            "tensor([[-1.4635],\n",
            "        [-1.1438],\n",
            "        [-0.1844],\n",
            "        [-1.2241],\n",
            "        [-0.8823]], requires_grad=True)\n"
          ]
        }
      ]
    },
    {
      "cell_type": "code",
      "source": [
        "model=x_data@w.t() + b\n",
        "diff=model-target\n",
        "loss=torch.sum(diff*diff)/torch.numel(diff)\n",
        "print(loss) # loss is reduced"
      ],
      "metadata": {
        "colab": {
          "base_uri": "https://localhost:8080/"
        },
        "id": "U7KYM7TghcL_",
        "outputId": "03435b8b-4cba-40da-e0aa-003719ee7589"
      },
      "execution_count": 69,
      "outputs": [
        {
          "output_type": "stream",
          "name": "stdout",
          "text": [
            "tensor(9398.8984, grad_fn=<DivBackward0>)\n"
          ]
        }
      ]
    },
    {
      "cell_type": "markdown",
      "source": [
        "TRAIN FOR MULTIPLE EPOCHS(100)"
      ],
      "metadata": {
        "id": "7cyEA-8miA7i"
      }
    },
    {
      "cell_type": "code",
      "source": [
        "for i in range(100):\n",
        "    model=x_data@w.t() + b\n",
        "    diff=model-target\n",
        "    loss=torch.sum(diff*diff)/torch.numel(diff)\n",
        "    loss.backward(retain_graph=True)\n",
        "    with torch.no_grad():\n",
        "        w -= w.grad * 1e-5\n",
        "        b -= b.grad * 1e-5\n",
        "        w.grad.zero_()\n",
        "        b.grad.zero_()"
      ],
      "metadata": {
        "id": "eA2Gau-1iEwa"
      },
      "execution_count": 70,
      "outputs": []
    },
    {
      "cell_type": "code",
      "source": [
        "model=x_data@w.t() + b\n",
        "diff=model-target\n",
        "loss=torch.sum(diff*diff)/torch.numel(diff)\n",
        "print(loss)"
      ],
      "metadata": {
        "colab": {
          "base_uri": "https://localhost:8080/"
        },
        "id": "HVFtFnsUiMwv",
        "outputId": "1c89a504-b744-47c9-e955-b9c6de178403"
      },
      "execution_count": 71,
      "outputs": [
        {
          "output_type": "stream",
          "name": "stdout",
          "text": [
            "tensor(893.0757, grad_fn=<DivBackward0>)\n"
          ]
        }
      ]
    },
    {
      "cell_type": "code",
      "source": [
        "model #predictions"
      ],
      "metadata": {
        "colab": {
          "base_uri": "https://localhost:8080/"
        },
        "id": "GGex9CXDiTzz",
        "outputId": "ac806307-ad58-41cf-c9e3-ff1f6f6070b4"
      },
      "execution_count": 72,
      "outputs": [
        {
          "output_type": "execute_result",
          "data": {
            "text/plain": [
              "tensor([[ 66.0266],\n",
              "        [ 79.2838],\n",
              "        [110.4050],\n",
              "        [ 75.4551],\n",
              "        [ 65.1771]], grad_fn=<AddBackward0>)"
            ]
          },
          "metadata": {},
          "execution_count": 72
        }
      ]
    },
    {
      "cell_type": "code",
      "source": [
        "target"
      ],
      "metadata": {
        "colab": {
          "base_uri": "https://localhost:8080/"
        },
        "id": "fOjYS6tkiXiL",
        "outputId": "4ca378cf-9538-48ad-b0c5-c4dae9f84759"
      },
      "execution_count": 73,
      "outputs": [
        {
          "output_type": "execute_result",
          "data": {
            "text/plain": [
              "tensor([[ 56.],\n",
              "        [ 81.],\n",
              "        [119.],\n",
              "        [ 22.],\n",
              "        [103.]])"
            ]
          },
          "metadata": {},
          "execution_count": 73
        }
      ]
    },
    {
      "cell_type": "markdown",
      "source": [
        "TASK 2: LINEAR REGRESSION USING PYTORCH"
      ],
      "metadata": {
        "id": "XIFxGqfsjMQY"
      }
    },
    {
      "cell_type": "code",
      "source": [
        "import numpy as np\n",
        "import torch\n",
        "import torch.nn as nn"
      ],
      "metadata": {
        "id": "xPKck6vsjTB8"
      },
      "execution_count": 74,
      "outputs": []
    },
    {
      "cell_type": "code",
      "source": [
        "# Input (temp, rainfall, humidity)\n",
        "inputs = np.array([[73, 67, 43], [91, 88, 64], [87, 134, 58], \n",
        "                   [102, 43, 37], [69, 96, 70], [73, 67, 43], \n",
        "                   [91, 88, 64], [87, 134, 58], [102, 43, 37], \n",
        "                   [69, 96, 70], [73, 67, 43], [91, 88, 64], \n",
        "                   [87, 134, 58], [102, 43, 37], [69, 96, 70]], \n",
        "                  dtype='float32')"
      ],
      "metadata": {
        "id": "1DXjZohzjZgo"
      },
      "execution_count": 77,
      "outputs": []
    },
    {
      "cell_type": "code",
      "source": [
        "# Targets (apples, oranges)\n",
        "targets = np.array([[56, 70], [81, 101], [119, 133], \n",
        "                    [22, 37], [103, 119], [56, 70], \n",
        "                    [81, 101], [119, 133], [22, 37], \n",
        "                    [103, 119], [56, 70], [81, 101], \n",
        "                    [119, 133], [22, 37], [103, 119]], \n",
        "                   dtype='float32')"
      ],
      "metadata": {
        "id": "7_iAymu3jdCd"
      },
      "execution_count": 78,
      "outputs": []
    },
    {
      "cell_type": "code",
      "source": [
        "inputs = torch.from_numpy(inputs)\n",
        "targets = torch.from_numpy(targets)"
      ],
      "metadata": {
        "id": "RgkvVvM0jbCn"
      },
      "execution_count": 79,
      "outputs": []
    },
    {
      "cell_type": "markdown",
      "source": [
        "DATASET AND DATALOADER"
      ],
      "metadata": {
        "id": "dzSSDPtfjkMq"
      }
    },
    {
      "cell_type": "code",
      "source": [
        "from torch.utils.data import TensorDataset"
      ],
      "metadata": {
        "id": "-etPIS9ajl7L"
      },
      "execution_count": 80,
      "outputs": []
    },
    {
      "cell_type": "code",
      "source": [
        "# Define dataset\n",
        "train_ds = TensorDataset(inputs, targets)\n",
        "train_ds[0:3]"
      ],
      "metadata": {
        "colab": {
          "base_uri": "https://localhost:8080/"
        },
        "id": "SWn9orF8jnvM",
        "outputId": "51c5d91b-4e45-4805-8aab-11be8ae7b349"
      },
      "execution_count": 81,
      "outputs": [
        {
          "output_type": "execute_result",
          "data": {
            "text/plain": [
              "(tensor([[ 73.,  67.,  43.],\n",
              "         [ 91.,  88.,  64.],\n",
              "         [ 87., 134.,  58.]]), tensor([[ 56.,  70.],\n",
              "         [ 81., 101.],\n",
              "         [119., 133.]]))"
            ]
          },
          "metadata": {},
          "execution_count": 81
        }
      ]
    },
    {
      "cell_type": "code",
      "source": [
        "from torch.utils.data import DataLoader"
      ],
      "metadata": {
        "id": "XEBKGmjhjqSn"
      },
      "execution_count": 82,
      "outputs": []
    },
    {
      "cell_type": "code",
      "source": [
        "# Define data loader\n",
        "batch_size = 5\n",
        "train_dl = DataLoader(train_ds, batch_size, shuffle=True)"
      ],
      "metadata": {
        "id": "9kBkBACejsDl"
      },
      "execution_count": 83,
      "outputs": []
    },
    {
      "cell_type": "code",
      "source": [
        "for x, y in train_dl:\n",
        "    print(x)\n",
        "    print(y)\n",
        "    break"
      ],
      "metadata": {
        "colab": {
          "base_uri": "https://localhost:8080/"
        },
        "id": "PM7oh6-5jupt",
        "outputId": "d136aaa6-050f-4494-d643-4d197436659d"
      },
      "execution_count": 85,
      "outputs": [
        {
          "output_type": "stream",
          "name": "stdout",
          "text": [
            "tensor([[ 69.,  96.,  70.],\n",
            "        [102.,  43.,  37.],\n",
            "        [ 69.,  96.,  70.],\n",
            "        [ 73.,  67.,  43.],\n",
            "        [102.,  43.,  37.]])\n",
            "tensor([[103., 119.],\n",
            "        [ 22.,  37.],\n",
            "        [103., 119.],\n",
            "        [ 56.,  70.],\n",
            "        [ 22.,  37.]])\n"
          ]
        }
      ]
    },
    {
      "cell_type": "code",
      "source": [
        "# Define model\n",
        "model = nn.Linear(3, 2)\n",
        "print(model.weight)\n",
        "print(model.bias)"
      ],
      "metadata": {
        "colab": {
          "base_uri": "https://localhost:8080/"
        },
        "id": "juAkTLmokNaN",
        "outputId": "8de7c64b-f153-48ca-e15d-ad8574ec89da"
      },
      "execution_count": 86,
      "outputs": [
        {
          "output_type": "stream",
          "name": "stdout",
          "text": [
            "Parameter containing:\n",
            "tensor([[-0.4619,  0.1736,  0.5170],\n",
            "        [ 0.4268,  0.0601, -0.1763]], requires_grad=True)\n",
            "Parameter containing:\n",
            "tensor([-0.2904, -0.3568], requires_grad=True)\n"
          ]
        }
      ]
    },
    {
      "cell_type": "code",
      "source": [
        "# Parameters\n",
        "list(model.parameters())"
      ],
      "metadata": {
        "colab": {
          "base_uri": "https://localhost:8080/"
        },
        "id": "LnHV2P7XkRFe",
        "outputId": "e680f9d5-58b0-4048-b35d-203cb3c82c8f"
      },
      "execution_count": 87,
      "outputs": [
        {
          "output_type": "execute_result",
          "data": {
            "text/plain": [
              "[Parameter containing:\n",
              " tensor([[-0.4619,  0.1736,  0.5170],\n",
              "         [ 0.4268,  0.0601, -0.1763]], requires_grad=True),\n",
              " Parameter containing:\n",
              " tensor([-0.2904, -0.3568], requires_grad=True)]"
            ]
          },
          "metadata": {},
          "execution_count": 87
        }
      ]
    },
    {
      "cell_type": "code",
      "source": [
        "w=torch.randn(2,3,requires_grad=True)\n",
        "b=torch.randn(2,requires_grad=True)"
      ],
      "metadata": {
        "id": "4TgJJCORkbfa"
      },
      "execution_count": 143,
      "outputs": []
    },
    {
      "cell_type": "code",
      "source": [
        "def modelpred(x):\n",
        "  return x@w.t() + b"
      ],
      "metadata": {
        "id": "1EimoBuOmSKs"
      },
      "execution_count": 144,
      "outputs": []
    },
    {
      "cell_type": "code",
      "source": [
        "preds=modelpred(inputs)\n",
        "preds"
      ],
      "metadata": {
        "colab": {
          "base_uri": "https://localhost:8080/"
        },
        "id": "57My0xH3kfhE",
        "outputId": "26956616-ad8a-4c3a-cea6-2f11cb067729"
      },
      "execution_count": 145,
      "outputs": [
        {
          "output_type": "execute_result",
          "data": {
            "text/plain": [
              "tensor([[ 60.8727,  -6.3265],\n",
              "        [ 92.4930,  -7.9953],\n",
              "        [104.8570,  38.0917],\n",
              "        [ 31.0562, -45.4887],\n",
              "        [112.8785,  12.0562],\n",
              "        [ 60.8727,  -6.3265],\n",
              "        [ 92.4930,  -7.9953],\n",
              "        [104.8570,  38.0917],\n",
              "        [ 31.0562, -45.4887],\n",
              "        [112.8785,  12.0562],\n",
              "        [ 60.8727,  -6.3265],\n",
              "        [ 92.4930,  -7.9953],\n",
              "        [104.8570,  38.0917],\n",
              "        [ 31.0562, -45.4887],\n",
              "        [112.8785,  12.0562]], grad_fn=<AddBackward0>)"
            ]
          },
          "metadata": {},
          "execution_count": 145
        }
      ]
    },
    {
      "cell_type": "code",
      "source": [
        "# Import nn.functional\n",
        "import torch.nn.functional as F"
      ],
      "metadata": {
        "id": "P0eZADsTlSU2"
      },
      "execution_count": 146,
      "outputs": []
    },
    {
      "cell_type": "code",
      "source": [
        "# Define loss function\n",
        "loss_fn = F.mse_loss"
      ],
      "metadata": {
        "id": "znsCdIQPlUn0"
      },
      "execution_count": 147,
      "outputs": []
    },
    {
      "cell_type": "code",
      "source": [
        "def loss_func(i1,i2):\n",
        "  diff=i1-i2\n",
        "  return torch.sum(diff*diff)/torch.numel(diff)"
      ],
      "metadata": {
        "id": "IB2E5fB3mcvF"
      },
      "execution_count": 148,
      "outputs": []
    },
    {
      "cell_type": "code",
      "source": [
        "loss=loss_func(preds,targets)\n",
        "print(loss)"
      ],
      "metadata": {
        "colab": {
          "base_uri": "https://localhost:8080/"
        },
        "id": "nPHHOvITlYfY",
        "outputId": "196eec4a-df12-4725-e794-6b9ac99f3dfa"
      },
      "execution_count": 149,
      "outputs": [
        {
          "output_type": "stream",
          "name": "stdout",
          "text": [
            "tensor(4549.0127, grad_fn=<DivBackward0>)\n"
          ]
        }
      ]
    },
    {
      "cell_type": "markdown",
      "source": [
        "TRAIN THE MODEL\n"
      ],
      "metadata": {
        "id": "rllf4omJmHVu"
      }
    },
    {
      "cell_type": "code",
      "source": [
        "def fit(num_epochs, model, loss_fn):\n",
        "    \n",
        "    # Repeat for given number of epochs\n",
        "    for epoch in range(num_epochs):\n",
        "        \n",
        "        # Train with batches of data\n",
        "        for xb,yb in train_dl:\n",
        "            \n",
        "            # 1. Generate predictions\n",
        "            pred = modelpred(xb)\n",
        "            \n",
        "            # 2. Calculate loss\n",
        "            loss = loss_func(pred, yb)\n",
        "            \n",
        "            # 3. Compute gradients\n",
        "            loss.backward()\n",
        "            \n",
        "            \n",
        "            \n",
        "    \n",
        "        \n",
        "        # Print the progress\n",
        "        if (epoch+1) % 10 == 0:\n",
        "            print('Epoch [{}/{}], Loss: {:.4f}'.format(epoch+1, num_epochs, loss.item()))"
      ],
      "metadata": {
        "id": "QFXT7jNLmIre"
      },
      "execution_count": 150,
      "outputs": []
    },
    {
      "cell_type": "code",
      "source": [
        "fit(100,model,loss_fn)"
      ],
      "metadata": {
        "colab": {
          "base_uri": "https://localhost:8080/"
        },
        "id": "cIzUHoh0ncWA",
        "outputId": "927b13fc-76c9-4950-f1af-87edc2c31682"
      },
      "execution_count": 151,
      "outputs": [
        {
          "output_type": "stream",
          "name": "stdout",
          "text": [
            "Epoch [10/100], Loss: 3596.3665\n",
            "Epoch [20/100], Loss: 4604.9531\n",
            "Epoch [30/100], Loss: 4837.0752\n",
            "Epoch [40/100], Loss: 4829.4580\n",
            "Epoch [50/100], Loss: 4549.0127\n",
            "Epoch [60/100], Loss: 5013.8286\n",
            "Epoch [70/100], Loss: 4165.4468\n",
            "Epoch [80/100], Loss: 3467.9370\n",
            "Epoch [90/100], Loss: 4316.3184\n",
            "Epoch [100/100], Loss: 4596.7642\n"
          ]
        }
      ]
    },
    {
      "cell_type": "code",
      "source": [
        "preds=modelpred(inputs)\n",
        "preds"
      ],
      "metadata": {
        "colab": {
          "base_uri": "https://localhost:8080/"
        },
        "id": "cY65Zf69pmLx",
        "outputId": "f289b570-169f-4bf5-9e99-afcf7ae36576"
      },
      "execution_count": 152,
      "outputs": [
        {
          "output_type": "execute_result",
          "data": {
            "text/plain": [
              "tensor([[ 60.8727,  -6.3265],\n",
              "        [ 92.4930,  -7.9953],\n",
              "        [104.8570,  38.0917],\n",
              "        [ 31.0562, -45.4887],\n",
              "        [112.8785,  12.0562],\n",
              "        [ 60.8727,  -6.3265],\n",
              "        [ 92.4930,  -7.9953],\n",
              "        [104.8570,  38.0917],\n",
              "        [ 31.0562, -45.4887],\n",
              "        [112.8785,  12.0562],\n",
              "        [ 60.8727,  -6.3265],\n",
              "        [ 92.4930,  -7.9953],\n",
              "        [104.8570,  38.0917],\n",
              "        [ 31.0562, -45.4887],\n",
              "        [112.8785,  12.0562]], grad_fn=<AddBackward0>)"
            ]
          },
          "metadata": {},
          "execution_count": 152
        }
      ]
    },
    {
      "cell_type": "code",
      "source": [
        "targets"
      ],
      "metadata": {
        "colab": {
          "base_uri": "https://localhost:8080/"
        },
        "id": "5wIgbAoTpqy2",
        "outputId": "d8a2627d-8513-4dca-a34e-a11359ec529c"
      },
      "execution_count": 153,
      "outputs": [
        {
          "output_type": "execute_result",
          "data": {
            "text/plain": [
              "tensor([[ 56.,  70.],\n",
              "        [ 81., 101.],\n",
              "        [119., 133.],\n",
              "        [ 22.,  37.],\n",
              "        [103., 119.],\n",
              "        [ 56.,  70.],\n",
              "        [ 81., 101.],\n",
              "        [119., 133.],\n",
              "        [ 22.,  37.],\n",
              "        [103., 119.],\n",
              "        [ 56.,  70.],\n",
              "        [ 81., 101.],\n",
              "        [119., 133.],\n",
              "        [ 22.,  37.],\n",
              "        [103., 119.]])"
            ]
          },
          "metadata": {},
          "execution_count": 153
        }
      ]
    }
  ]
}
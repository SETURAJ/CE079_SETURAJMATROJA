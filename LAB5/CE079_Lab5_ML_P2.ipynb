{
  "nbformat": 4,
  "nbformat_minor": 0,
  "metadata": {
    "colab": {
      "name": "CE076_Lab5_ML_P2.ipynb",
      "provenance": [],
      "collapsed_sections": []
    },
    "kernelspec": {
      "name": "python3",
      "display_name": "Python 3"
    },
    "language_info": {
      "name": "python"
    }
  },
  "cells": [
    {
      "cell_type": "markdown",
      "source": [
        "Task 1: Try the algo on Same Weather dataset - OneHotEncoding of\n",
        "features: and Train test Division 75%-25%"
      ],
      "metadata": {
        "id": "mceCcZXPl-FC"
      }
    },
    {
      "cell_type": "code",
      "source": [
        "from sklearn import preprocessing\n",
        "from sklearn.preprocessing import LabelEncoder,OneHotEncoder\n",
        "from sklearn.tree import DecisionTreeClassifier\n",
        "import pandas as pd\n",
        "import numpy as np\n",
        "import sklearn.metrics as metrics"
      ],
      "metadata": {
        "id": "rc1c06C1OnQI"
      },
      "execution_count": 1,
      "outputs": []
    },
    {
      "cell_type": "code",
      "source": [
        "# import the data required\n",
        "data = pd.read_csv(\"./Dataset.csv\")\n",
        "print(data.head())"
      ],
      "metadata": {
        "colab": {
          "base_uri": "https://localhost:8080/"
        },
        "id": "rk7BBRlDPKff",
        "outputId": "db5caa08-4c1f-4297-e1d8-3a2ab45a82f6"
      },
      "execution_count": 4,
      "outputs": [
        {
          "output_type": "stream",
          "name": "stdout",
          "text": [
            "  Outlook Temp Humidity Wind Play\n",
            "0       R    H   Normal    F    N\n",
            "1       R    H     High    T    N\n",
            "2       O    H   Normal    F    Y\n",
            "3       S    M   Normal    F    Y\n",
            "4       S    C   Normal    F    Y\n"
          ]
        }
      ]
    },
    {
      "cell_type": "code",
      "source": [
        "one_hot_encoded_data = pd.get_dummies(data, columns = ['Outlook', 'Temp','Wind','Humidity'])\n",
        "one_hot_encoded_data"
      ],
      "metadata": {
        "colab": {
          "base_uri": "https://localhost:8080/",
          "height": 552
        },
        "id": "4Ku_7mQxPQj5",
        "outputId": "ee7a97ff-86f6-492a-d9e0-c7bcc11351f4"
      },
      "execution_count": 5,
      "outputs": [
        {
          "output_type": "execute_result",
          "data": {
            "text/html": [
              "\n",
              "  <div id=\"df-886d6d62-b7af-41c8-8c21-318f95805534\">\n",
              "    <div class=\"colab-df-container\">\n",
              "      <div>\n",
              "<style scoped>\n",
              "    .dataframe tbody tr th:only-of-type {\n",
              "        vertical-align: middle;\n",
              "    }\n",
              "\n",
              "    .dataframe tbody tr th {\n",
              "        vertical-align: top;\n",
              "    }\n",
              "\n",
              "    .dataframe thead th {\n",
              "        text-align: right;\n",
              "    }\n",
              "</style>\n",
              "<table border=\"1\" class=\"dataframe\">\n",
              "  <thead>\n",
              "    <tr style=\"text-align: right;\">\n",
              "      <th></th>\n",
              "      <th>Play</th>\n",
              "      <th>Outlook_O</th>\n",
              "      <th>Outlook_R</th>\n",
              "      <th>Outlook_S</th>\n",
              "      <th>Temp_C</th>\n",
              "      <th>Temp_H</th>\n",
              "      <th>Temp_M</th>\n",
              "      <th>Wind_F</th>\n",
              "      <th>Wind_T</th>\n",
              "      <th>Humidity_High</th>\n",
              "      <th>Humidity_Low</th>\n",
              "      <th>Humidity_Normal</th>\n",
              "    </tr>\n",
              "  </thead>\n",
              "  <tbody>\n",
              "    <tr>\n",
              "      <th>0</th>\n",
              "      <td>N</td>\n",
              "      <td>0</td>\n",
              "      <td>1</td>\n",
              "      <td>0</td>\n",
              "      <td>0</td>\n",
              "      <td>1</td>\n",
              "      <td>0</td>\n",
              "      <td>1</td>\n",
              "      <td>0</td>\n",
              "      <td>0</td>\n",
              "      <td>0</td>\n",
              "      <td>1</td>\n",
              "    </tr>\n",
              "    <tr>\n",
              "      <th>1</th>\n",
              "      <td>N</td>\n",
              "      <td>0</td>\n",
              "      <td>1</td>\n",
              "      <td>0</td>\n",
              "      <td>0</td>\n",
              "      <td>1</td>\n",
              "      <td>0</td>\n",
              "      <td>0</td>\n",
              "      <td>1</td>\n",
              "      <td>1</td>\n",
              "      <td>0</td>\n",
              "      <td>0</td>\n",
              "    </tr>\n",
              "    <tr>\n",
              "      <th>2</th>\n",
              "      <td>Y</td>\n",
              "      <td>1</td>\n",
              "      <td>0</td>\n",
              "      <td>0</td>\n",
              "      <td>0</td>\n",
              "      <td>1</td>\n",
              "      <td>0</td>\n",
              "      <td>1</td>\n",
              "      <td>0</td>\n",
              "      <td>0</td>\n",
              "      <td>0</td>\n",
              "      <td>1</td>\n",
              "    </tr>\n",
              "    <tr>\n",
              "      <th>3</th>\n",
              "      <td>Y</td>\n",
              "      <td>0</td>\n",
              "      <td>0</td>\n",
              "      <td>1</td>\n",
              "      <td>0</td>\n",
              "      <td>0</td>\n",
              "      <td>1</td>\n",
              "      <td>1</td>\n",
              "      <td>0</td>\n",
              "      <td>0</td>\n",
              "      <td>0</td>\n",
              "      <td>1</td>\n",
              "    </tr>\n",
              "    <tr>\n",
              "      <th>4</th>\n",
              "      <td>Y</td>\n",
              "      <td>0</td>\n",
              "      <td>0</td>\n",
              "      <td>1</td>\n",
              "      <td>1</td>\n",
              "      <td>0</td>\n",
              "      <td>0</td>\n",
              "      <td>1</td>\n",
              "      <td>0</td>\n",
              "      <td>0</td>\n",
              "      <td>0</td>\n",
              "      <td>1</td>\n",
              "    </tr>\n",
              "    <tr>\n",
              "      <th>5</th>\n",
              "      <td>N</td>\n",
              "      <td>0</td>\n",
              "      <td>0</td>\n",
              "      <td>1</td>\n",
              "      <td>1</td>\n",
              "      <td>0</td>\n",
              "      <td>0</td>\n",
              "      <td>0</td>\n",
              "      <td>1</td>\n",
              "      <td>0</td>\n",
              "      <td>1</td>\n",
              "      <td>0</td>\n",
              "    </tr>\n",
              "    <tr>\n",
              "      <th>6</th>\n",
              "      <td>Y</td>\n",
              "      <td>1</td>\n",
              "      <td>0</td>\n",
              "      <td>0</td>\n",
              "      <td>1</td>\n",
              "      <td>0</td>\n",
              "      <td>0</td>\n",
              "      <td>0</td>\n",
              "      <td>1</td>\n",
              "      <td>0</td>\n",
              "      <td>0</td>\n",
              "      <td>1</td>\n",
              "    </tr>\n",
              "    <tr>\n",
              "      <th>7</th>\n",
              "      <td>N</td>\n",
              "      <td>0</td>\n",
              "      <td>1</td>\n",
              "      <td>0</td>\n",
              "      <td>0</td>\n",
              "      <td>0</td>\n",
              "      <td>1</td>\n",
              "      <td>1</td>\n",
              "      <td>0</td>\n",
              "      <td>0</td>\n",
              "      <td>0</td>\n",
              "      <td>1</td>\n",
              "    </tr>\n",
              "    <tr>\n",
              "      <th>8</th>\n",
              "      <td>Y</td>\n",
              "      <td>0</td>\n",
              "      <td>1</td>\n",
              "      <td>0</td>\n",
              "      <td>1</td>\n",
              "      <td>0</td>\n",
              "      <td>0</td>\n",
              "      <td>1</td>\n",
              "      <td>0</td>\n",
              "      <td>0</td>\n",
              "      <td>1</td>\n",
              "      <td>0</td>\n",
              "    </tr>\n",
              "    <tr>\n",
              "      <th>9</th>\n",
              "      <td>Y</td>\n",
              "      <td>0</td>\n",
              "      <td>0</td>\n",
              "      <td>1</td>\n",
              "      <td>0</td>\n",
              "      <td>0</td>\n",
              "      <td>1</td>\n",
              "      <td>1</td>\n",
              "      <td>0</td>\n",
              "      <td>1</td>\n",
              "      <td>0</td>\n",
              "      <td>0</td>\n",
              "    </tr>\n",
              "    <tr>\n",
              "      <th>10</th>\n",
              "      <td>Y</td>\n",
              "      <td>0</td>\n",
              "      <td>1</td>\n",
              "      <td>0</td>\n",
              "      <td>0</td>\n",
              "      <td>0</td>\n",
              "      <td>1</td>\n",
              "      <td>0</td>\n",
              "      <td>1</td>\n",
              "      <td>1</td>\n",
              "      <td>0</td>\n",
              "      <td>0</td>\n",
              "    </tr>\n",
              "    <tr>\n",
              "      <th>11</th>\n",
              "      <td>Y</td>\n",
              "      <td>1</td>\n",
              "      <td>0</td>\n",
              "      <td>0</td>\n",
              "      <td>0</td>\n",
              "      <td>0</td>\n",
              "      <td>1</td>\n",
              "      <td>0</td>\n",
              "      <td>1</td>\n",
              "      <td>0</td>\n",
              "      <td>1</td>\n",
              "      <td>0</td>\n",
              "    </tr>\n",
              "    <tr>\n",
              "      <th>12</th>\n",
              "      <td>Y</td>\n",
              "      <td>1</td>\n",
              "      <td>0</td>\n",
              "      <td>0</td>\n",
              "      <td>0</td>\n",
              "      <td>1</td>\n",
              "      <td>0</td>\n",
              "      <td>1</td>\n",
              "      <td>0</td>\n",
              "      <td>0</td>\n",
              "      <td>0</td>\n",
              "      <td>1</td>\n",
              "    </tr>\n",
              "    <tr>\n",
              "      <th>13</th>\n",
              "      <td>N</td>\n",
              "      <td>0</td>\n",
              "      <td>0</td>\n",
              "      <td>1</td>\n",
              "      <td>0</td>\n",
              "      <td>0</td>\n",
              "      <td>1</td>\n",
              "      <td>0</td>\n",
              "      <td>1</td>\n",
              "      <td>0</td>\n",
              "      <td>0</td>\n",
              "      <td>1</td>\n",
              "    </tr>\n",
              "  </tbody>\n",
              "</table>\n",
              "</div>\n",
              "      <button class=\"colab-df-convert\" onclick=\"convertToInteractive('df-886d6d62-b7af-41c8-8c21-318f95805534')\"\n",
              "              title=\"Convert this dataframe to an interactive table.\"\n",
              "              style=\"display:none;\">\n",
              "        \n",
              "  <svg xmlns=\"http://www.w3.org/2000/svg\" height=\"24px\"viewBox=\"0 0 24 24\"\n",
              "       width=\"24px\">\n",
              "    <path d=\"M0 0h24v24H0V0z\" fill=\"none\"/>\n",
              "    <path d=\"M18.56 5.44l.94 2.06.94-2.06 2.06-.94-2.06-.94-.94-2.06-.94 2.06-2.06.94zm-11 1L8.5 8.5l.94-2.06 2.06-.94-2.06-.94L8.5 2.5l-.94 2.06-2.06.94zm10 10l.94 2.06.94-2.06 2.06-.94-2.06-.94-.94-2.06-.94 2.06-2.06.94z\"/><path d=\"M17.41 7.96l-1.37-1.37c-.4-.4-.92-.59-1.43-.59-.52 0-1.04.2-1.43.59L10.3 9.45l-7.72 7.72c-.78.78-.78 2.05 0 2.83L4 21.41c.39.39.9.59 1.41.59.51 0 1.02-.2 1.41-.59l7.78-7.78 2.81-2.81c.8-.78.8-2.07 0-2.86zM5.41 20L4 18.59l7.72-7.72 1.47 1.35L5.41 20z\"/>\n",
              "  </svg>\n",
              "      </button>\n",
              "      \n",
              "  <style>\n",
              "    .colab-df-container {\n",
              "      display:flex;\n",
              "      flex-wrap:wrap;\n",
              "      gap: 12px;\n",
              "    }\n",
              "\n",
              "    .colab-df-convert {\n",
              "      background-color: #E8F0FE;\n",
              "      border: none;\n",
              "      border-radius: 50%;\n",
              "      cursor: pointer;\n",
              "      display: none;\n",
              "      fill: #1967D2;\n",
              "      height: 32px;\n",
              "      padding: 0 0 0 0;\n",
              "      width: 32px;\n",
              "    }\n",
              "\n",
              "    .colab-df-convert:hover {\n",
              "      background-color: #E2EBFA;\n",
              "      box-shadow: 0px 1px 2px rgba(60, 64, 67, 0.3), 0px 1px 3px 1px rgba(60, 64, 67, 0.15);\n",
              "      fill: #174EA6;\n",
              "    }\n",
              "\n",
              "    [theme=dark] .colab-df-convert {\n",
              "      background-color: #3B4455;\n",
              "      fill: #D2E3FC;\n",
              "    }\n",
              "\n",
              "    [theme=dark] .colab-df-convert:hover {\n",
              "      background-color: #434B5C;\n",
              "      box-shadow: 0px 1px 3px 1px rgba(0, 0, 0, 0.15);\n",
              "      filter: drop-shadow(0px 1px 2px rgba(0, 0, 0, 0.3));\n",
              "      fill: #FFFFFF;\n",
              "    }\n",
              "  </style>\n",
              "\n",
              "      <script>\n",
              "        const buttonEl =\n",
              "          document.querySelector('#df-886d6d62-b7af-41c8-8c21-318f95805534 button.colab-df-convert');\n",
              "        buttonEl.style.display =\n",
              "          google.colab.kernel.accessAllowed ? 'block' : 'none';\n",
              "\n",
              "        async function convertToInteractive(key) {\n",
              "          const element = document.querySelector('#df-886d6d62-b7af-41c8-8c21-318f95805534');\n",
              "          const dataTable =\n",
              "            await google.colab.kernel.invokeFunction('convertToInteractive',\n",
              "                                                     [key], {});\n",
              "          if (!dataTable) return;\n",
              "\n",
              "          const docLinkHtml = 'Like what you see? Visit the ' +\n",
              "            '<a target=\"_blank\" href=https://colab.research.google.com/notebooks/data_table.ipynb>data table notebook</a>'\n",
              "            + ' to learn more about interactive tables.';\n",
              "          element.innerHTML = '';\n",
              "          dataTable['output_type'] = 'display_data';\n",
              "          await google.colab.output.renderOutput(dataTable, element);\n",
              "          const docLink = document.createElement('div');\n",
              "          docLink.innerHTML = docLinkHtml;\n",
              "          element.appendChild(docLink);\n",
              "        }\n",
              "      </script>\n",
              "    </div>\n",
              "  </div>\n",
              "  "
            ],
            "text/plain": [
              "   Play  Outlook_O  Outlook_R  ...  Humidity_High  Humidity_Low  Humidity_Normal\n",
              "0     N          0          1  ...              0             0                1\n",
              "1     N          0          1  ...              1             0                0\n",
              "2     Y          1          0  ...              0             0                1\n",
              "3     Y          0          0  ...              0             0                1\n",
              "4     Y          0          0  ...              0             0                1\n",
              "5     N          0          0  ...              0             1                0\n",
              "6     Y          1          0  ...              0             0                1\n",
              "7     N          0          1  ...              0             0                1\n",
              "8     Y          0          1  ...              0             1                0\n",
              "9     Y          0          0  ...              1             0                0\n",
              "10    Y          0          1  ...              1             0                0\n",
              "11    Y          1          0  ...              0             1                0\n",
              "12    Y          1          0  ...              0             0                1\n",
              "13    N          0          0  ...              0             0                1\n",
              "\n",
              "[14 rows x 12 columns]"
            ]
          },
          "metadata": {},
          "execution_count": 5
        }
      ]
    },
    {
      "cell_type": "code",
      "source": [
        "newdata = one_hot_encoded_data.iloc[:,1:12]\n",
        "newtarget = one_hot_encoded_data.iloc[:,0:1]\n",
        "print(newdata)\n",
        "print(newtarget)"
      ],
      "metadata": {
        "colab": {
          "base_uri": "https://localhost:8080/"
        },
        "id": "-wzxFhUJPUY5",
        "outputId": "4769a08c-86a6-4ff6-ddf3-9c083eac1a94"
      },
      "execution_count": 6,
      "outputs": [
        {
          "output_type": "stream",
          "name": "stdout",
          "text": [
            "    Outlook_O  Outlook_R  ...  Humidity_Low  Humidity_Normal\n",
            "0           0          1  ...             0                1\n",
            "1           0          1  ...             0                0\n",
            "2           1          0  ...             0                1\n",
            "3           0          0  ...             0                1\n",
            "4           0          0  ...             0                1\n",
            "5           0          0  ...             1                0\n",
            "6           1          0  ...             0                1\n",
            "7           0          1  ...             0                1\n",
            "8           0          1  ...             1                0\n",
            "9           0          0  ...             0                0\n",
            "10          0          1  ...             0                0\n",
            "11          1          0  ...             1                0\n",
            "12          1          0  ...             0                1\n",
            "13          0          0  ...             0                1\n",
            "\n",
            "[14 rows x 11 columns]\n",
            "   Play\n",
            "0     N\n",
            "1     N\n",
            "2     Y\n",
            "3     Y\n",
            "4     Y\n",
            "5     N\n",
            "6     Y\n",
            "7     N\n",
            "8     Y\n",
            "9     Y\n",
            "10    Y\n",
            "11    Y\n",
            "12    Y\n",
            "13    N\n"
          ]
        }
      ]
    },
    {
      "cell_type": "code",
      "source": [
        "from sklearn.model_selection import train_test_split\n",
        "X_train, X_test, y_train, y_test = train_test_split(newdata,newtarget , test_size=0.25, random_state=94)\n",
        "print(X_train)\n",
        "print(X_test)\n",
        "print(y_train)\n",
        "print(y_test)"
      ],
      "metadata": {
        "colab": {
          "base_uri": "https://localhost:8080/"
        },
        "id": "5aP7Hba_PVoS",
        "outputId": "2b7eb6a5-24d1-4f27-d20e-29fa26a8df2b"
      },
      "execution_count": 7,
      "outputs": [
        {
          "output_type": "stream",
          "name": "stdout",
          "text": [
            "    Outlook_O  Outlook_R  ...  Humidity_Low  Humidity_Normal\n",
            "13          0          0  ...             0                1\n",
            "1           0          1  ...             0                0\n",
            "10          0          1  ...             0                0\n",
            "6           1          0  ...             0                1\n",
            "12          1          0  ...             0                1\n",
            "3           0          0  ...             0                1\n",
            "5           0          0  ...             1                0\n",
            "0           0          1  ...             0                1\n",
            "2           1          0  ...             0                1\n",
            "11          1          0  ...             1                0\n",
            "\n",
            "[10 rows x 11 columns]\n",
            "   Outlook_O  Outlook_R  ...  Humidity_Low  Humidity_Normal\n",
            "7          0          1  ...             0                1\n",
            "4          0          0  ...             0                1\n",
            "8          0          1  ...             1                0\n",
            "9          0          0  ...             0                0\n",
            "\n",
            "[4 rows x 11 columns]\n",
            "   Play\n",
            "13    N\n",
            "1     N\n",
            "10    Y\n",
            "6     Y\n",
            "12    Y\n",
            "3     Y\n",
            "5     N\n",
            "0     N\n",
            "2     Y\n",
            "11    Y\n",
            "  Play\n",
            "7    N\n",
            "4    Y\n",
            "8    Y\n",
            "9    Y\n"
          ]
        }
      ]
    },
    {
      "cell_type": "code",
      "source": [
        "clf = DecisionTreeClassifier(criterion = \"entropy\", random_state = 94, max_leaf_nodes=94)\n",
        "\n",
        "# Train Decision Tree Classifer\n",
        "clf = clf.fit(X_train,y_train)\n",
        "\n",
        "#Predict the response for test dataset\n",
        "y_pred = clf.predict(X_test)\n",
        "print(y_pred)"
      ],
      "metadata": {
        "colab": {
          "base_uri": "https://localhost:8080/"
        },
        "id": "VezmBrOAPZBx",
        "outputId": "25c43a69-641e-49b6-e0bf-1f72929da9b9"
      },
      "execution_count": 8,
      "outputs": [
        {
          "output_type": "stream",
          "name": "stdout",
          "text": [
            "['Y' 'N' 'N' 'Y']\n"
          ]
        }
      ]
    },
    {
      "cell_type": "code",
      "source": [
        "from sklearn.metrics import precision_score\n",
        "from sklearn.metrics import recall_score\n",
        "from sklearn import metrics\n",
        "print(\"Accuracy:\",metrics.accuracy_score(y_test, y_pred))\n",
        "print(\"Recall:\",metrics.recall_score(y_test, y_pred,average=\"binary\",pos_label=\"N\"))\n",
        "print(\"Precision:\",metrics.precision_score(y_test, y_pred,average=\"binary\",pos_label=\"N\"))\n",
        "print(\"Confusion Matrix:\",metrics.confusion_matrix(y_test, y_pred))"
      ],
      "metadata": {
        "colab": {
          "base_uri": "https://localhost:8080/"
        },
        "id": "NyZ4LhxsPffU",
        "outputId": "cb759d2d-4db1-418c-8684-1a0dc74923f6"
      },
      "execution_count": 9,
      "outputs": [
        {
          "output_type": "stream",
          "name": "stdout",
          "text": [
            "Accuracy: 0.25\n",
            "Recall: 0.0\n",
            "Precision: 0.0\n",
            "Confusion Matrix: [[0 1]\n",
            " [2 1]]\n"
          ]
        }
      ]
    },
    {
      "cell_type": "markdown",
      "source": [
        "**Questions: For Task - 1 (1) What will be the value of Play, if Outlook is ’Rainy’, Temperature is ’Mild’, Humidity =’Normal’, and Wind = ’False’?**"
      ],
      "metadata": {
        "id": "Ptf_oqrUPi-i"
      }
    },
    {
      "cell_type": "code",
      "source": [
        "test_data = [[0,1,0,0,0,1,1,0,0,0,1]]\n",
        "output = clf.predict(test_data)\n",
        "print(output)"
      ],
      "metadata": {
        "colab": {
          "base_uri": "https://localhost:8080/"
        },
        "id": "h0061jhSPk_C",
        "outputId": "6f2b8d6c-988c-4cc4-b78c-5811ae311470"
      },
      "execution_count": 10,
      "outputs": [
        {
          "output_type": "stream",
          "name": "stdout",
          "text": [
            "['Y']\n"
          ]
        },
        {
          "output_type": "stream",
          "name": "stderr",
          "text": [
            "/usr/local/lib/python3.7/dist-packages/sklearn/base.py:451: UserWarning: X does not have valid feature names, but DecisionTreeClassifier was fitted with feature names\n",
            "  \"X does not have valid feature names, but\"\n"
          ]
        }
      ]
    },
    {
      "cell_type": "markdown",
      "source": [
        "**2).What will be the value of Play, if Outlook is ’Sunny’, Temeprature is ’Cool’, Humidity=’High’, and Wind = ’True’?**"
      ],
      "metadata": {
        "id": "uS_h2TZ7Psei"
      }
    },
    {
      "cell_type": "code",
      "source": [
        "test_data = [[0,0,1,1,0,0,0,1,1,0,0]]\n",
        "output = clf.predict(test_data)\n",
        "print(output)"
      ],
      "metadata": {
        "colab": {
          "base_uri": "https://localhost:8080/"
        },
        "id": "yyfsZ_CuPwMe",
        "outputId": "1396fd07-4212-4600-bea2-8c43d45ba8a9"
      },
      "execution_count": 11,
      "outputs": [
        {
          "output_type": "stream",
          "name": "stdout",
          "text": [
            "['N']\n"
          ]
        },
        {
          "output_type": "stream",
          "name": "stderr",
          "text": [
            "/usr/local/lib/python3.7/dist-packages/sklearn/base.py:451: UserWarning: X does not have valid feature names, but DecisionTreeClassifier was fitted with feature names\n",
            "  \"X does not have valid feature names, but\"\n"
          ]
        }
      ]
    },
    {
      "cell_type": "markdown",
      "source": [
        "**Task 2: Apply algorithm on digits dataset - LabelEncoding of features: and Train test Division 80%-20%**"
      ],
      "metadata": {
        "id": "Pr8VghXyP0Vn"
      }
    },
    {
      "cell_type": "code",
      "source": [
        "from sklearn.datasets import load_digits\n",
        "from sklearn.tree import DecisionTreeClassifier\n",
        "data = load_digits()\n",
        "# print the names of the  features\n",
        "print(\"Features:\",data.feature_names)\n",
        "# print the label type of iris(class_0, class_1, class_2)\n",
        "print(\"Labels:\",data.target_names)"
      ],
      "metadata": {
        "colab": {
          "base_uri": "https://localhost:8080/"
        },
        "id": "RuvfPH7RP3h9",
        "outputId": "5bea6b8e-9302-43e1-d321-e419885e9ebe"
      },
      "execution_count": 2,
      "outputs": [
        {
          "output_type": "stream",
          "name": "stdout",
          "text": [
            "Features: ['pixel_0_0', 'pixel_0_1', 'pixel_0_2', 'pixel_0_3', 'pixel_0_4', 'pixel_0_5', 'pixel_0_6', 'pixel_0_7', 'pixel_1_0', 'pixel_1_1', 'pixel_1_2', 'pixel_1_3', 'pixel_1_4', 'pixel_1_5', 'pixel_1_6', 'pixel_1_7', 'pixel_2_0', 'pixel_2_1', 'pixel_2_2', 'pixel_2_3', 'pixel_2_4', 'pixel_2_5', 'pixel_2_6', 'pixel_2_7', 'pixel_3_0', 'pixel_3_1', 'pixel_3_2', 'pixel_3_3', 'pixel_3_4', 'pixel_3_5', 'pixel_3_6', 'pixel_3_7', 'pixel_4_0', 'pixel_4_1', 'pixel_4_2', 'pixel_4_3', 'pixel_4_4', 'pixel_4_5', 'pixel_4_6', 'pixel_4_7', 'pixel_5_0', 'pixel_5_1', 'pixel_5_2', 'pixel_5_3', 'pixel_5_4', 'pixel_5_5', 'pixel_5_6', 'pixel_5_7', 'pixel_6_0', 'pixel_6_1', 'pixel_6_2', 'pixel_6_3', 'pixel_6_4', 'pixel_6_5', 'pixel_6_6', 'pixel_6_7', 'pixel_7_0', 'pixel_7_1', 'pixel_7_2', 'pixel_7_3', 'pixel_7_4', 'pixel_7_5', 'pixel_7_6', 'pixel_7_7']\n",
            "Labels: [0 1 2 3 4 5 6 7 8 9]\n"
          ]
        }
      ]
    },
    {
      "cell_type": "code",
      "source": [
        "#import the necessary module\n",
        "from sklearn.model_selection import train_test_split\n",
        "#split data set into train and test sets\n",
        "X_train, X_test, y_train, y_test = train_test_split(data.data,data.target , test_size=0.2, random_state=94)"
      ],
      "metadata": {
        "id": "oSWhZWHCP7mf"
      },
      "execution_count": 3,
      "outputs": []
    },
    {
      "cell_type": "code",
      "source": [
        "clf = DecisionTreeClassifier(criterion = \"entropy\", random_state = 175, max_leaf_nodes=175)\n",
        "\n",
        "# Train Decision Tree Classifer\n",
        "clf = clf.fit(X_train,y_train)\n",
        "\n",
        "#Predict the response for test dataset\n",
        "y_pred = clf.predict(X_test)\n",
        "print(y_pred)"
      ],
      "metadata": {
        "colab": {
          "base_uri": "https://localhost:8080/"
        },
        "id": "nTU3uybzP90q",
        "outputId": "efce8c29-537b-4f54-b056-4b91f8c22a3f"
      },
      "execution_count": 4,
      "outputs": [
        {
          "output_type": "stream",
          "name": "stdout",
          "text": [
            "[8 5 3 1 8 5 2 1 6 0 4 2 3 3 3 0 1 6 6 7 8 8 6 6 3 8 6 7 6 1 6 9 3 5 7 5 8\n",
            " 1 4 7 3 2 6 5 2 8 6 4 0 3 1 9 9 0 8 4 2 9 7 2 5 6 9 8 0 6 0 6 4 0 6 4 7 2\n",
            " 5 8 3 3 7 5 4 4 6 4 5 6 9 5 3 3 9 2 6 8 9 5 6 4 7 2 5 6 3 7 8 7 9 2 9 4 5\n",
            " 3 8 2 8 2 2 1 6 0 4 6 9 8 9 5 5 8 1 8 9 9 5 0 0 1 6 8 8 6 3 3 7 8 4 9 1 4\n",
            " 2 5 7 3 2 5 2 1 8 3 3 2 9 9 3 2 4 5 5 0 6 6 3 6 3 3 0 8 3 7 3 0 7 5 2 2 5\n",
            " 0 6 3 9 6 4 7 1 3 2 0 4 0 9 3 7 2 3 6 7 2 2 5 6 5 3 7 5 2 8 1 5 5 4 6 9 8\n",
            " 2 6 8 2 6 6 8 8 9 6 0 2 9 8 0 1 3 2 9 2 2 1 4 0 4 0 3 0 6 9 5 1 8 0 3 7 7\n",
            " 8 4 2 6 1 9 5 5 7 5 1 9 3 7 0 8 9 9 4 2 6 2 1 0 4 9 0 9 0 5 0 4 0 5 5 5 0\n",
            " 7 5 6 7 0 9 7 7 9 2 0 1 1 4 4 6 4 5 6 5 7 2 6 0 6 8 9 8 0 9 6 3 6 8 5 8 6\n",
            " 3 6 6 3 7 2 8 8 9 1 4 8 8 4 4 1 1 5 9 0 4 4 5 3 3 3 3]\n"
          ]
        }
      ]
    },
    {
      "cell_type": "code",
      "source": [
        "from sklearn.metrics import precision_score\n",
        "from sklearn.metrics import recall_score\n",
        "from sklearn import metrics\n",
        "print(\"Accuracy:\",metrics.accuracy_score(y_test, y_pred))\n",
        "precision = precision_score(y_test, y_pred,average=None)\n",
        "recall = recall_score(y_test, y_pred,average=None)\n",
        "print('precision: {}'.format(precision))\n",
        "print('recall: {}'.format(recall))"
      ],
      "metadata": {
        "colab": {
          "base_uri": "https://localhost:8080/"
        },
        "id": "xgrxnF7DQBtq",
        "outputId": "05f1b05e-0fd6-461b-c560-8f18ca58d59e"
      },
      "execution_count": 5,
      "outputs": [
        {
          "output_type": "stream",
          "name": "stdout",
          "text": [
            "Accuracy: 0.8888888888888888\n",
            "precision: [1.         0.875      0.89189189 0.87804878 0.96875    1.\n",
            " 0.89583333 0.96428571 0.56410256 0.88888889]\n",
            "recall: [0.97142857 0.84       0.84615385 0.81818182 0.83783784 0.95348837\n",
            " 0.93478261 0.9        0.81481481 0.94117647]\n"
          ]
        }
      ]
    }
  ]
}
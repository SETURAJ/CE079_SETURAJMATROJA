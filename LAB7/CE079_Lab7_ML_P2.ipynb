{
  "cells": [
    {
      "cell_type": "markdown",
      "metadata": {
        "id": "an_yZghs5nTH"
      },
      "source": [
        "<h3>Logistic Regression on MNIST dataset using Tensorflow.</h3>\n",
        "<br>"
      ]
    },
    {
      "cell_type": "code",
      "execution_count": 4,
      "metadata": {
        "id": "cAH94XckaUd4"
      },
      "outputs": [],
      "source": [
        "import tensorflow as tf\n",
        "import numpy as np\n",
        "from __future__ import absolute_import, division, print_function"
      ]
    },
    {
      "cell_type": "code",
      "execution_count": 5,
      "metadata": {
        "id": "gAr8h2TuaiTA"
      },
      "outputs": [],
      "source": [
        "num_classes = 10 \n",
        "\n",
        "num_features = 784\n",
        "\n",
        "learning_rate = 0.01\n",
        "training_steps = 1000\n",
        "batch_size = 256\n",
        "display_step = 50"
      ]
    },
    {
      "cell_type": "code",
      "execution_count": 9,
      "metadata": {
        "id": "GURgbEiPaVdf"
      },
      "outputs": [],
      "source": [
        "from tensorflow.keras.datasets import mnist\n",
        "\n",
        "(inputs_train, targets_train), (inputs_test, targets_test) = mnist.load_data()\n",
        "\n",
        "inputs_train, inputs_test = np.array(inputs_train, np.float32), np.array(inputs_test, np.float32)\n",
        "\n",
        "inputs_train, inputs_test = inputs_train.reshape([-1, num_features]), inputs_test.reshape([-1, num_features])\n",
        "\n",
        "inputs_train, inputs_test = inputs_train / 255, inputs_test / 255"
      ]
    },
    {
      "cell_type": "code",
      "execution_count": 11,
      "metadata": {
        "id": "7PcvYJq0aptV"
      },
      "outputs": [],
      "source": [
        "train_data = tf.data.Dataset.from_tensor_slices((inputs_train, targets_train))\n",
        "train_data = train_data.repeat().shuffle(5000).batch(batch_size).prefetch(1)"
      ]
    },
    {
      "cell_type": "code",
      "execution_count": 12,
      "metadata": {
        "id": "z3dMmL--axEt"
      },
      "outputs": [],
      "source": [
        "W = tf.Variable(tf.ones([num_features, num_classes]), name = \"weight\")\n",
        "\n",
        "b = tf.Variable(tf.zeros([num_classes]), name = \"bias\")"
      ]
    },
    {
      "cell_type": "code",
      "execution_count": 13,
      "metadata": {
        "id": "iLbiFgiea0kV"
      },
      "outputs": [],
      "source": [
        "def logistic_regression(x):\n",
        "\n",
        "    return tf.nn.softmax(tf.matmul(x, W) + b)\n",
        "\n",
        "def cross_entropy(y_pred, y_true):\n",
        "\n",
        "    y_true = tf.one_hot(y_true, depth=num_classes)\n",
        "    y_pred = tf.clip_by_value(y_pred, 1e-9, 1.)\n",
        "\n",
        "    return tf.reduce_mean(-tf.reduce_sum(y_true * tf.math.log(y_pred)))"
      ]
    },
    {
      "cell_type": "code",
      "execution_count": 14,
      "metadata": {
        "id": "fVhCB8K8a7CX"
      },
      "outputs": [],
      "source": [
        "def accuracy(y_pred, y_true):\n",
        "  \n",
        "  correct_prediction = tf.equal(tf.argmax(y_pred, 1), tf.cast(y_true, tf.int64))\n",
        "  \n",
        "  return tf.reduce_mean(tf.cast(correct_prediction, tf.float32))\n",
        "\n",
        "optimizer = tf.optimizers.SGD(learning_rate)"
      ]
    },
    {
      "cell_type": "code",
      "execution_count": 15,
      "metadata": {
        "id": "RmPXiQ4vbDCm"
      },
      "outputs": [],
      "source": [
        "def run_optimization(x, y):\n",
        "\n",
        "    with tf.GradientTape() as g:\n",
        "        \n",
        "        pred = logistic_regression(x)\n",
        "        loss = cross_entropy(pred, y)\n",
        "\n",
        "    gradients = g.gradient(loss, [W, b])\n",
        "    optimizer.apply_gradients(zip(gradients, [W, b]))"
      ]
    },
    {
      "cell_type": "code",
      "execution_count": 16,
      "metadata": {
        "colab": {
          "base_uri": "https://localhost:8080/"
        },
        "id": "26d4lV1ObQkc",
        "outputId": "6e22f77d-e26a-4834-e642-ef76688a27f1"
      },
      "outputs": [
        {
          "name": "stdout",
          "output_type": "stream",
          "text": [
            "step: 50, loss: 528.999451, accuracy: 0.839844\n",
            "step: 100, loss: 108.224426, accuracy: 0.894531\n",
            "step: 150, loss: 305.229431, accuracy: 0.730469\n",
            "step: 200, loss: 135.933777, accuracy: 0.890625\n",
            "step: 250, loss: 80.160927, accuracy: 0.921875\n",
            "step: 300, loss: 324.033691, accuracy: 0.746094\n",
            "step: 350, loss: 71.844398, accuracy: 0.917969\n",
            "step: 400, loss: 192.744522, accuracy: 0.820312\n",
            "step: 450, loss: 58.223103, accuracy: 0.921875\n",
            "step: 500, loss: 81.265228, accuracy: 0.910156\n",
            "step: 550, loss: 100.616714, accuracy: 0.851562\n",
            "step: 600, loss: 142.453857, accuracy: 0.851562\n",
            "step: 650, loss: 72.150513, accuracy: 0.906250\n",
            "step: 700, loss: 70.402649, accuracy: 0.925781\n",
            "step: 750, loss: 165.765366, accuracy: 0.871094\n",
            "step: 800, loss: 41.746349, accuracy: 0.941406\n",
            "step: 850, loss: 39.642990, accuracy: 0.941406\n",
            "step: 900, loss: 183.746918, accuracy: 0.855469\n",
            "step: 950, loss: 234.977417, accuracy: 0.847656\n",
            "step: 1000, loss: 40.009808, accuracy: 0.945312\n"
          ]
        }
      ],
      "source": [
        "for step, (batch_x, batch_y) in enumerate(train_data.take(training_steps), 1):\n",
        "    \n",
        "    run_optimization(batch_x, batch_y)\n",
        "\n",
        "    if step % display_step == 0:\n",
        "\n",
        "        pred = logistic_regression(batch_x)\n",
        "        loss = cross_entropy(pred, batch_y)\n",
        "        acc = accuracy(pred, batch_y)\n",
        "\n",
        "        print(\"step: %i, loss: %f, accuracy: %f\" % (step, loss, acc))"
      ]
    },
    {
      "cell_type": "code",
      "execution_count": 17,
      "metadata": {
        "colab": {
          "base_uri": "https://localhost:8080/"
        },
        "id": "GjHSB4O8bVNP",
        "outputId": "bf646ae8-11bd-4c61-f26d-9114f29ec1eb"
      },
      "outputs": [
        {
          "name": "stdout",
          "output_type": "stream",
          "text": [
            "Test Accuracy: 0.913900\n"
          ]
        }
      ],
      "source": [
        "pred = logistic_regression(inputs_test)\n",
        "\n",
        "print(\"Test Accuracy: %f\" % accuracy(pred, targets_test))"
      ]
    }
  ],
  "metadata": {
    "colab": {
      "collapsed_sections": [],
      "name": "Lab_7_CE046_Logistic_Regression_TensorFlow.ipynb",
      "provenance": []
    },
    "kernelspec": {
      "display_name": "Python 3",
      "name": "python3"
    },
    "language_info": {
      "name": "python"
    }
  },
  "nbformat": 4,
  "nbformat_minor": 0
}
